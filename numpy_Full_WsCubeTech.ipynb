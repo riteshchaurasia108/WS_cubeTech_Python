{
 "cells": [
  {
   "attachments": {},
   "cell_type": "markdown",
   "id": "5910405e",
   "metadata": {},
   "source": [
    "# NumPy Array complete (by:-wscube Tech)\n",
    "###### No. of array can be count by viewing no. of square brackets"
   ]
  },
  {
   "cell_type": "code",
   "execution_count": 1,
   "id": "7f0251ff",
   "metadata": {},
   "outputs": [
    {
     "name": "stdout",
     "output_type": "stream",
     "text": [
      "[1 2 3 4]\n"
     ]
    }
   ],
   "source": [
    "import numpy as np # once numpy imported then no need to write again and again\n",
    "x=[1,2,3,4] # list value is passing here\n",
    "y=np.array(x) # to change list  in array\n",
    "print(y)"
   ]
  },
  {
   "cell_type": "code",
   "execution_count": 2,
   "id": "09271f28",
   "metadata": {},
   "outputs": [
    {
     "data": {
      "text/plain": [
       "array([1, 2, 3, 4])"
      ]
     },
     "execution_count": 2,
     "metadata": {},
     "output_type": "execute_result"
    }
   ],
   "source": [
    "y # ( without print it gives the type of data also from predefined data)"
   ]
  },
  {
   "cell_type": "markdown",
   "id": "471da675",
   "metadata": {},
   "source": [
    "### in the below we taken input as number but we got output as  string value"
   ]
  },
  {
   "cell_type": "code",
   "execution_count": 3,
   "id": "153cbf92",
   "metadata": {},
   "outputs": [
    {
     "name": "stdout",
     "output_type": "stream",
     "text": [
      "enter:3\n",
      "['3']\n",
      "enter:3\n",
      "['3' '3']\n",
      "enter:3\n",
      "['3' '3' '3']\n",
      "enter:3\n",
      "['3' '3' '3' '3']\n"
     ]
    }
   ],
   "source": [
    "m=[]# empty list\n",
    "for i in range(1,5): # range n-1... n=greatest no.as 5\n",
    "    int_1=input(\"enter:\")\n",
    "    m.append(int_1) # append means passing the value in list(m)\n",
    "    print(np.array(m))"
   ]
  },
  {
   "cell_type": "code",
   "execution_count": 4,
   "id": "982ab0cd",
   "metadata": {},
   "outputs": [
    {
     "ename": "IndentationError",
     "evalue": "expected an indented block (2929453345.py, line 4)",
     "output_type": "error",
     "traceback": [
      "\u001b[1;36m  File \u001b[1;32m\"C:\\Users\\rites\\AppData\\Local\\Temp\\ipykernel_13384\\2929453345.py\"\u001b[1;36m, line \u001b[1;32m4\u001b[0m\n\u001b[1;33m    int_0=input(\"enter\")\u001b[0m\n\u001b[1;37m    ^\u001b[0m\n\u001b[1;31mIndentationError\u001b[0m\u001b[1;31m:\u001b[0m expected an indented block\n"
     ]
    }
   ],
   "source": [
    "import numpy as np\n",
    "k=[] # a black data is taken and have to fill it by for loop\n",
    "for i in range(2,7): # range function start from 0(given no.), and run till 4(n-1)\n",
    "int_0=input(\"enter\")\n",
    "k.append(Int_0)\n",
    "print(np.array(k))\n",
    "print()"
   ]
  },
  {
   "cell_type": "code",
   "execution_count": null,
   "id": "5fac406b",
   "metadata": {},
   "outputs": [],
   "source": [
    "\n",
    "m=[]# empty list\n",
    "for i in range(1,5): # range n-1... n=greatest no.\n",
    "    int_1=int(input(\"enter:\")) # to get input as interger/array\n",
    "    m.append(int_1) # append means passing the value in list(m)\n",
    "    print(np.array(m))"
   ]
  },
  {
   "cell_type": "code",
   "execution_count": null,
   "id": "9465ae72",
   "metadata": {},
   "outputs": [],
   "source": [
    "g=[]\n",
    "for j in range(1,5):\n",
    "    int_2=int(input(\"enter your output\"))\n",
    "    g.append(int_2)\n",
    "    print(np.array(g))"
   ]
  },
  {
   "cell_type": "markdown",
   "id": "e097e56b",
   "metadata": {},
   "source": []
  },
  {
   "cell_type": "markdown",
   "id": "20e1bcc7",
   "metadata": {},
   "source": [
    "##### Dimension of array\n",
    "#### 1D aray _ [1 2 3 4],\n",
    "#### 2D array_[[1 2 2 3]]\n",
    "#### 3D array_[[[ 3 3 4 5 ]]]\n",
    "#### Higher Dimension arrays__\n",
    "##### To detect types of array_j   variable.ndim(x.ndim)\n"
   ]
  },
  {
   "cell_type": "code",
   "execution_count": null,
   "id": "4a2b395c",
   "metadata": {},
   "outputs": [],
   "source": [
    "ar2=np.array([[1,2,3,4],[1,2,3,4,5]])# number of data/items should in both data. as 5 is extra in the given data so output is in list with 1Dimension\n",
    "print(ar2)\n",
    "print(ar2.ndim)"
   ]
  },
  {
   "cell_type": "code",
   "execution_count": null,
   "id": "a9aa9a85",
   "metadata": {},
   "outputs": [],
   "source": [
    "ar2=np.array([[1,2,3,4],[1,2,3,4,]])# number of data/item is same in both data\n",
    "print(ar2) # to print \n",
    "print(ar2.ndim) # To know the 1d,2d,3dimensional"
   ]
  },
  {
   "cell_type": "markdown",
   "id": "f2d05b69",
   "metadata": {},
   "source": [
    "### if having  multiple command to run in a single column then to print use print(file name). otherwise if there is single in the command then write the variable name as it is"
   ]
  },
  {
   "cell_type": "code",
   "execution_count": null,
   "id": "6d1c753a",
   "metadata": {},
   "outputs": [],
   "source": [
    "ar3=np.array([[[1,2],[2,3],[4,5]]])\n",
    "(ar3) # print is not used in this so its not working \n",
    "# To find type of array 1d,2d,3d? use .ndim\n",
    "print(ar3.ndim)"
   ]
  },
  {
   "cell_type": "code",
   "execution_count": null,
   "id": "db642941",
   "metadata": {},
   "outputs": [],
   "source": [
    "ar3=np.array([[[2,3],[4,5],[4,3]]])\n",
    "print(ar3)\n",
    "print(ar3.ndim) ## here both print & no. of dimension is working"
   ]
  },
  {
   "cell_type": "markdown",
   "id": "853ecfc7",
   "metadata": {},
   "source": [
    "## to print n(10,20,2,)dimension array\n",
    "### use ndmin=n(10,20,2) to print many no. of array\n",
    "### use # ndim to detect the type of array(1d,23d,3d,etc"
   ]
  },
  {
   "cell_type": "code",
   "execution_count": null,
   "id": "d0c58a53",
   "metadata": {},
   "outputs": [],
   "source": [
    "arn=np.array([1,2,3,4],ndmin=20)# ndmin is use to create dimensional of array\n",
    "print(arn.ndim) # counting no.of array\n",
    "print(arn)"
   ]
  },
  {
   "cell_type": "code",
   "execution_count": null,
   "id": "fb03343a",
   "metadata": {},
   "outputs": [],
   "source": [
    "\n",
    "\n"
   ]
  },
  {
   "cell_type": "markdown",
   "id": "00a03bf1",
   "metadata": {},
   "source": [
    "### zeros"
   ]
  },
  {
   "cell_type": "code",
   "execution_count": null,
   "id": "629b6306",
   "metadata": {},
   "outputs": [],
   "source": [
    "import numpy as np\n",
    "ar_zero=np.zeros(4) #  for 1 dimensional array or 1 dimension matricsa\n",
    "\n",
    "ar_zero1=np.zeros((3,4))\n",
    "print(ar_zero)\n",
    "print() # it gives a space in the output\n",
    "print(ar_zero1)"
   ]
  },
  {
   "cell_type": "markdown",
   "id": "b0ce7783",
   "metadata": {},
   "source": [
    "## ones"
   ]
  },
  {
   "cell_type": "code",
   "execution_count": null,
   "id": "630e3d81",
   "metadata": {},
   "outputs": [],
   "source": [
    "import numpy as np\n",
    "ar_one=np.ones(4)\n",
    "\n",
    "print(ar_one)\n",
    "print()\n",
    "ar_one1=np.ones((2,4)) # two data also add two paranthesis or bracket\n",
    "print(ar_one1)\n"
   ]
  },
  {
   "cell_type": "markdown",
   "id": "23c9bde0",
   "metadata": {},
   "source": [
    "# empty"
   ]
  },
  {
   "cell_type": "code",
   "execution_count": null,
   "id": "21299d22",
   "metadata": {},
   "outputs": [],
   "source": [
    "\n",
    "ar_em=np.empty(4)\n",
    "print(ar_em) ## here 1 is coming as output, that is reflacting from the  previos value\n",
    "print()\n",
    "\n",
    "print(\"-------------------------------------------------------\")\n",
    "ar_em1=np.empty((3,1))\n",
    "print(ar_em1)"
   ]
  },
  {
   "cell_type": "markdown",
   "id": "3cc1391a",
   "metadata": {},
   "source": [
    "## range (n-1)"
   ]
  },
  {
   "cell_type": "code",
   "execution_count": null,
   "id": "d95663c4",
   "metadata": {},
   "outputs": [],
   "source": [
    "ar_rn=np.arange(4) # range start from 0 to less than one. range means( n-1) that is 4-1 in this case\n",
    "print(ar_rn)\n"
   ]
  },
  {
   "cell_type": "code",
   "execution_count": null,
   "id": "2295b570",
   "metadata": {},
   "outputs": [],
   "source": [
    "ar_rn=np.arange(1,8) # range last value is less than n-1, and 1,4) its not means 1 rows and 4 columns. it is only range startin and end(Range-1)\n",
    "print(ar_rn)"
   ]
  },
  {
   "attachments": {},
   "cell_type": "markdown",
   "id": "08994f7c",
   "metadata": {},
   "source": [
    "# Diagonal"
   ]
  },
  {
   "cell_type": "code",
   "execution_count": null,
   "id": "f7a68c00",
   "metadata": {},
   "outputs": [],
   "source": [
    "ar_dg=np.eye(4) # 1 will arrange diagonally\n",
    "print(ar_dg)"
   ]
  },
  {
   "cell_type": "code",
   "execution_count": null,
   "id": "9a4aabe1",
   "metadata": {},
   "outputs": [],
   "source": [
    "ar_dg=np.eye(4,2) # Diagonally printing, 4 rows and 2 columns\n",
    "print(ar_dg)"
   ]
  },
  {
   "cell_type": "markdown",
   "id": "32071c8d",
   "metadata": {},
   "source": [
    "# linspace( having  equal length)"
   ]
  },
  {
   "cell_type": "code",
   "execution_count": null,
   "id": "81fc9592",
   "metadata": {},
   "outputs": [],
   "source": [
    "ar_lin=np.linspace(0,10,num=6)  # num=6 (it is no. of obseravation randomly with equal length)\n",
    "print(ar_lin)\n"
   ]
  },
  {
   "cell_type": "code",
   "execution_count": null,
   "id": "e06a7082",
   "metadata": {},
   "outputs": [],
   "source": [
    "ar_lin=np.linspace(2,10,3) # (2,10,3 means  from 2 to 10 with 3 no. of observation in 1d)\n",
    "print(ar_lin)"
   ]
  },
  {
   "cell_type": "markdown",
   "id": "51ddf90d",
   "metadata": {},
   "source": [
    "## webcube tech(L5)\n",
    "## create numpy array with random numbers"
   ]
  },
  {
   "cell_type": "markdown",
   "id": "7877eef6",
   "metadata": {},
   "source": [
    "## Random"
   ]
  },
  {
   "cell_type": "markdown",
   "id": "b9b1224b",
   "metadata": {},
   "source": [
    "##### rand()-rand function ( this function use to genrate random value between 0 to 1(only positive array)"
   ]
  },
  {
   "cell_type": "code",
   "execution_count": null,
   "id": "9f84ae57",
   "metadata": {},
   "outputs": [],
   "source": [
    "import numpy as np\n",
    "var=np.random.rand(3) # it will be n no. of 1D array no. below 1\n",
    "print(var)"
   ]
  },
  {
   "cell_type": "code",
   "execution_count": null,
   "id": "78d13f75",
   "metadata": {},
   "outputs": [],
   "source": [
    "var1=np.random.rand(2,5) # 2 rows and 5 columns\n",
    "print(var1)"
   ]
  },
  {
   "cell_type": "markdown",
   "id": "ca7091c1",
   "metadata": {},
   "source": [
    "### randn() this function gives closer to zero. may be positive or  negative aray"
   ]
  },
  {
   "cell_type": "code",
   "execution_count": null,
   "id": "5806c64a",
   "metadata": {},
   "outputs": [],
   "source": [
    "var2=np.random.randn(4) # randn(4)/(1,4) both are same that means 1 rows and 4 columns\n",
    "print(var2)"
   ]
  },
  {
   "cell_type": "code",
   "execution_count": null,
   "id": "099f94ad",
   "metadata": {},
   "outputs": [],
   "source": [
    "var2=np.random.randn(4,8)\n",
    "print(var2)"
   ]
  },
  {
   "cell_type": "markdown",
   "id": "d4b20e40",
   "metadata": {},
   "source": [
    "# ranf()\n",
    "## [0.0,1.0)"
   ]
  },
  {
   "cell_type": "raw",
   "id": "1e9ab1fd",
   "metadata": {},
   "source": []
  },
  {
   "cell_type": "code",
   "execution_count": null,
   "id": "846879c1",
   "metadata": {},
   "outputs": [],
   "source": [
    "var3=np.random.ranf(4) # it gives closer to 1 not 1. from 0 to closer to1\n",
    "print(var3)"
   ]
  },
  {
   "cell_type": "markdown",
   "id": "f9e998b8",
   "metadata": {},
   "source": [
    "# randint()"
   ]
  },
  {
   "cell_type": "code",
   "execution_count": null,
   "id": "e2ea1aa5",
   "metadata": {},
   "outputs": [],
   "source": [
    "var4=np.random.randint(2,7,6) # first(2 is the minimum value) 2nd(7 is the maximum value upto(less than 1,,,n-1(7-1)means till 6 will be the value) value will becount , 3rd(6 it is the total no. of obesrvation/value/no.of times))\n",
    "print(var4)"
   ]
  },
  {
   "cell_type": "code",
   "execution_count": null,
   "id": "b07ac03d",
   "metadata": {},
   "outputs": [],
   "source": []
  },
  {
   "cell_type": "code",
   "execution_count": null,
   "id": "60829417",
   "metadata": {},
   "outputs": [],
   "source": []
  },
  {
   "cell_type": "markdown",
   "id": "fde17517",
   "metadata": {},
   "source": [
    "# L6( data types in numpy arrays)\n",
    "#### bool,float,int etc\n",
    "#### .dtype(to detect  types of data types(int_int32etc))"
   ]
  },
  {
   "cell_type": "code",
   "execution_count": null,
   "id": "26a2c925",
   "metadata": {},
   "outputs": [],
   "source": [
    "\n",
    "import numpy as np\n",
    "var= np.array([1,2,3,4,34,34])\n",
    "print(\"Data Types:\",var.dtype)"
   ]
  },
  {
   "cell_type": "code",
   "execution_count": null,
   "id": "f8711375",
   "metadata": {},
   "outputs": [],
   "source": [
    "var=np.array([1.0,1.2,1.3])\n",
    "print(\"Data types:\",var.dtype)"
   ]
  },
  {
   "cell_type": "code",
   "execution_count": null,
   "id": "45c8610c",
   "metadata": {},
   "outputs": [],
   "source": [
    "var=np.array([\"a\"]) #<U1-defines to string data types\n",
    "print(\"Data types:-\",var.dtype)"
   ]
  },
  {
   "cell_type": "markdown",
   "id": "654f5292",
   "metadata": {},
   "source": [
    "#### to change in desired data  types:-"
   ]
  },
  {
   "cell_type": "code",
   "execution_count": null,
   "id": "4570d9ea",
   "metadata": {},
   "outputs": [],
   "source": [
    "var=np.array([1.0,1.2,1.3],dtype=np.int8) # write the desired data type(dtype=np.int8)\n",
    "print(\"Data types:\",var.dtype)"
   ]
  },
  {
   "cell_type": "markdown",
   "id": "5b12627e",
   "metadata": {},
   "source": [
    "# List  of charaters that are used  to represent dtype in Numpy:-\n",
    "#### i=integer\n",
    "#### b=boolean\n",
    "#### u=unsigned integer\n",
    "#### f= float\n",
    "#### c=complex loat\n",
    "#### m=timedelta, o=object,s=string,U=Unicode, \n",
    "##  desired data types can also be  convert by using short character list\n",
    "# dtype=\"f\"(as to change in float)\n"
   ]
  },
  {
   "cell_type": "code",
   "execution_count": null,
   "id": "dcbd888d",
   "metadata": {},
   "outputs": [],
   "source": [
    "var=np.array([\"a\"],dtype=\"f\") # string never be converted in to float\n",
    "print(\"Data types:-\",var.dtype)"
   ]
  },
  {
   "cell_type": "code",
   "execution_count": null,
   "id": "a47a95a8",
   "metadata": {},
   "outputs": [],
   "source": [
    "var=np.array([1,2,3,4],dtype=\"f\")\n",
    "print(\"Data types:-\",var.dtype)\n",
    "print(var)"
   ]
  },
  {
   "cell_type": "markdown",
   "id": "445bfb23",
   "metadata": {},
   "source": [
    "### Q.) we can also use data types as function\n",
    "## here  we doing changes from one data to new data"
   ]
  },
  {
   "cell_type": "code",
   "execution_count": null,
   "id": "80689c19",
   "metadata": {},
   "outputs": [],
   "source": [
    "var1=np.array([1,2,3,4])\n",
    "new=np.float32(var1)\n",
    "new_one=np.int_(new)\n",
    "\n",
    "print(\"Data types:-\",var1.dtype)\n",
    "print(\"Data Types:-\",new.dtype)\n",
    "print(\"DAtta types\",new_one.dtype)\n",
    "print(var1)\n",
    "print(new)\n",
    "print(new_one)"
   ]
  },
  {
   "cell_type": "markdown",
   "id": "b4a05c91",
   "metadata": {},
   "source": [
    "#### var4.astype(float,int_ etc)also can directly  change the data in specific data. var4(it is variable name only)"
   ]
  },
  {
   "cell_type": "code",
   "execution_count": null,
   "id": "c68c2301",
   "metadata": {},
   "outputs": [],
   "source": [
    "var4   =np.array([1,2,3,4])\n",
    "new_1=var4.astype(float)  # .astype is used to convert the data types(eg. float, integer,char ,var etc))\n",
    "print(var4)\n",
    "print(new_1)"
   ]
  },
  {
   "cell_type": "code",
   "execution_count": null,
   "id": "13b7ec4d",
   "metadata": {},
   "outputs": [],
   "source": [
    "## till lecture 6 ,start from lecture 7 of ws cube\n"
   ]
  },
  {
   "cell_type": "markdown",
   "id": "091b230d",
   "metadata": {},
   "source": [
    "# ------------------------------------------------------------------------------------------------------------\n",
    "# ARITHMERIC OPERATIONS\n",
    "# ------------------------------------------------------------------------------------------------------------------"
   ]
  },
  {
   "cell_type": "code",
   "execution_count": null,
   "id": "9f9d4a94",
   "metadata": {},
   "outputs": [],
   "source": [
    "import numpy as np\n",
    "var=np.array([1,2,3,4])\n",
    "varadd=var+3 # same addition,substraction,multiplication and division is performed\n",
    "print(varadd)"
   ]
  },
  {
   "cell_type": "markdown",
   "id": "ab1077bc",
   "metadata": {},
   "source": [
    "# ---------------------------------------\n",
    "# Arith. Operations Short cut For 1D and 2D\n",
    "# ---------------------------------------\n",
    "### np.add(a,b)\n",
    "### np.subtract(a,b)\n",
    "### np.multiply(a,b)\n",
    "### np.divide(a,b)\n",
    "### np.mod(a/b) , for remainder\n",
    "### np.power(a**b)\n",
    "### np.reciprocal(1/a)"
   ]
  },
  {
   "cell_type": "code",
   "execution_count": null,
   "id": "59dabfea",
   "metadata": {},
   "outputs": [],
   "source": [
    "import numpy as np\n",
    "var=np.array([1,2,3,4])\n",
    "var2=np.array([1,2,3,4])\n",
    "varadd=np.add(var,var2) # np.add(var,3) also run\n",
    "print(varadd)"
   ]
  },
  {
   "cell_type": "code",
   "execution_count": null,
   "id": "9534b4d8",
   "metadata": {},
   "outputs": [],
   "source": [
    "import numpy as np\n",
    "var=np.array([1,2,3,4])\n",
    "var2=np.array([1,2,3,4])\n",
    "print(var+var2)  # for all arthmeitc operation,(+,-,*,/, modulours is a remainder)"
   ]
  },
  {
   "cell_type": "markdown",
   "id": "45aa92a8",
   "metadata": {},
   "source": [
    "# 2 D \n",
    "##### (All arithmetic operation is same as 1dimensional array)"
   ]
  },
  {
   "cell_type": "code",
   "execution_count": null,
   "id": "92fd7009",
   "metadata": {},
   "outputs": [],
   "source": [
    "import numpy as np\n",
    "\n",
    "var=np.array([[1,2,3,4],[1,2,3,4]])\n",
    "var2=np.array([[1,2,3,4],[1,2,3,4]])\n",
    "\n",
    "print(var)\n",
    "print() # for space \n",
    "\n",
    "print(var2)\n",
    "print()\n",
    "\n",
    "print(\"This is the sum of var and var2\")\n",
    "print()\n",
    "\n",
    "print(var+var2)"
   ]
  },
  {
   "cell_type": "markdown",
   "id": "a617bf53",
   "metadata": {},
   "source": [
    " # Arithmetic Function\n",
    " # ------------------------------------------------------\n",
    " ## Axis=0(means along/in colon)\n",
    " ## Axis=1(means in Row)\n",
    " "
   ]
  },
  {
   "cell_type": "code",
   "execution_count": null,
   "id": "265e191c",
   "metadata": {},
   "outputs": [],
   "source": [
    "# np.min() - for minimum/lowest value of the array\n",
    "# np.max()- for maximum/highest value of the array\n",
    "# np.argmin()- for the index value of array\n",
    "# np.sqrt()-square root of the variable"
   ]
  },
  {
   "cell_type": "code",
   "execution_count": null,
   "id": "df142f9e",
   "metadata": {},
   "outputs": [],
   "source": [
    "import numpy as np\n",
    "var=np.array([1,2,3,4])\n",
    "print(\"min\" ,np.min(var)) # for minimum/lowest value\n",
    "print(\"max :-\" ,np.max(var))"
   ]
  },
  {
   "cell_type": "code",
   "execution_count": null,
   "id": "02b8edcd",
   "metadata": {},
   "outputs": [],
   "source": [
    "import numpy as np\n",
    "var=np.array([1,2,3,4])\n",
    "print(\"min\" ,np.min(var),np.argmin(var)) #  0 is the first index\n",
    "print(\"max :-\" ,np.max(var), np.argmax(var))# 3 is the fourth  index"
   ]
  },
  {
   "cell_type": "code",
   "execution_count": null,
   "id": "c155c874",
   "metadata": {},
   "outputs": [],
   "source": [
    "import numpy as np\n",
    "var=np.array([[1,2,3,4],[9,8,7,5]]) # in single variable min/max will be taken from both array\n",
    "print(\"min\" ,np.min(var))\n",
    "print(\"max \" ,np.max(var))"
   ]
  },
  {
   "cell_type": "code",
   "execution_count": null,
   "id": "02a8cd3d",
   "metadata": {},
   "outputs": [],
   "source": [
    "import numpy as np\n",
    "var2=np.array([[1,2,3,4],[3,4,5,6]])\n",
    "print(var2)\n",
    "print()\n",
    "print(\"min\" ,np.min(var2,axis=1))#Axis value will be always inside np.min/max bracket\n",
    "print(\"max :-\" ,np.max(var2,axis=0))# greater value along colon\n",
    "print()\n",
    "print(\"square roots\",np.sqrt(var2))# here axis=0/1 is not working"
   ]
  },
  {
   "cell_type": "code",
   "execution_count": null,
   "id": "6ac5e03f",
   "metadata": {},
   "outputs": [],
   "source": [
    "import numpy as np\n",
    "var=np.array([1,2,3,4])\n",
    "print(\"sin value of var2\",np.sin(var2))\n",
    "print()# for space\n",
    "print(\"cos value of var2\",np.cos(var2))\n",
    "print()\n",
    "print(\"cumsum value\",np.cumsum(var2))\n",
    "# cumsum- 1st value, 1st+2nd=c, c+3rd as addition one after one with total value\n"
   ]
  },
  {
   "cell_type": "markdown",
   "id": "d78b4616",
   "metadata": {},
   "source": [
    "# Shape in nupy\n",
    "### Print(var.shape)"
   ]
  },
  {
   "cell_type": "code",
   "execution_count": null,
   "id": "49165602",
   "metadata": {},
   "outputs": [],
   "source": []
  },
  {
   "cell_type": "code",
   "execution_count": null,
   "id": "b2e0fd1c",
   "metadata": {
    "scrolled": true
   },
   "outputs": [],
   "source": [
    "var=np.array([2,3,4,5])\n",
    "print(var)\n",
    "print()\n",
    "print(var.shape)"
   ]
  },
  {
   "cell_type": "code",
   "execution_count": null,
   "id": "d90fee63",
   "metadata": {
    "scrolled": true
   },
   "outputs": [],
   "source": [
    "var=np.array([[2,3,4,5],[2,3,4,5]])\n",
    "print(var)\n",
    "print()\n",
    "print(var.shape) # means two rowsf and 4 columns"
   ]
  },
  {
   "cell_type": "code",
   "execution_count": null,
   "id": "80ab83e1",
   "metadata": {},
   "outputs": [],
   "source": [
    "# problem =why 4 is coming in place of rows"
   ]
  },
  {
   "cell_type": "code",
   "execution_count": null,
   "id": "816cc989",
   "metadata": {},
   "outputs": [],
   "source": [
    "var7=np.array([[[[2,3,4,5],[5,4,5,3],[3,4,5,6],[2,3,3,5]]]])\n",
    "print(var7)\n",
    "print()\n",
    "print(\"no. of array\", var7.ndim)\n",
    "print(var7.shape) #why 4 is coming"
   ]
  },
  {
   "cell_type": "code",
   "execution_count": null,
   "id": "045a3ce8",
   "metadata": {},
   "outputs": [],
   "source": [
    "var4=np.array([2,3,4,5],ndmin=4)\n",
    "print(var4)# here only 1 row\n",
    "print()\n",
    "\n",
    "print(\"No of araay \",var4.ndim)\n",
    "print()\n",
    "\n",
    "print(\"first four 1 is rows and last 4 no. is colon\",var4.shape)"
   ]
  },
  {
   "cell_type": "code",
   "execution_count": null,
   "id": "725afddb",
   "metadata": {},
   "outputs": [],
   "source": [
    "# Reshape"
   ]
  },
  {
   "cell_type": "code",
   "execution_count": null,
   "id": "8a0dca1c",
   "metadata": {},
   "outputs": [],
   "source": [
    "import numpy as np\n",
    "var01=np.array([2,3,4,5,5,5])\n",
    "x=var01.reshape(2,3)# reshape size should be the total no.of array(as-here is total 6 array so it can be only reshape into 3*2 or 2*3)\n",
    "print(\"for reshape 2*3\")\n",
    "print(x)\n",
    "print(\"dimension of variable x is\",x.ndim)\n",
    "print()\n",
    "x2=var01.reshape(3,2)\n",
    "print(\"for reshape 3,2\")\n",
    "print(x2)\n",
    "print(\"dimension of variable x2 is\",x2.ndim)"
   ]
  },
  {
   "cell_type": "code",
   "execution_count": null,
   "id": "0bfb8461",
   "metadata": {},
   "outputs": [],
   "source": [
    "var02=np.array([1,2,3,4,5,6,7,8,9,10,11,12])\n",
    "print()\n",
    "x3=var02.reshape(1,3,4)# 1st no.(1-no. of matrix/figure), 2nd no.(3-no.of rows),3rd no.4 shows no.of columns\n",
    "print(x3) # 2 rows"
   ]
  },
  {
   "cell_type": "code",
   "execution_count": null,
   "id": "d8ef2241",
   "metadata": {},
   "outputs": [],
   "source": [
    "var02=np.array([1,2,3,4,5,6,7,8,9,10,11,12])\n",
    "print()\n",
    "x3=var02.reshape(4,3,1)# 1st no. for matrix/figure), 2nd for rows),3rd no. for columns\n",
    "print(x3) # 2 rows"
   ]
  },
  {
   "cell_type": "markdown",
   "id": "a7351ea4",
   "metadata": {},
   "source": [
    "### To reshape in one dimensional array\n",
    "#### var.reshape(-1)  minus 1"
   ]
  },
  {
   "cell_type": "code",
   "execution_count": null,
   "id": "74681096",
   "metadata": {},
   "outputs": [],
   "source": [
    "var02=np.array([1,2,3,4,5,6,7,8,9,10,11,12])\n",
    "print()\n",
    "x3=var02.reshape(4,3,1)# 1st no. for matrix/figure), 2nd for rows),3rd no. for columns\n",
    "print(x3) # 2 rows\n",
    "print()\n",
    "one=x3.reshape(-1) # To reshape in to 1 dimensional array\n",
    "print(\"this is one dimensional array\")\n",
    "print(one)\n",
    "print(one.ndim)"
   ]
  },
  {
   "cell_type": "markdown",
   "id": "c5bd8d4d",
   "metadata": {},
   "source": [
    "# BroadCasting Numpy array"
   ]
  },
  {
   "cell_type": "code",
   "execution_count": null,
   "id": "cc4f9b31",
   "metadata": {},
   "outputs": [],
   "source": [
    "import numpy as np\n",
    "var=np.array([1,2,3,4])# this is 1,4 but shape give 4, only\n",
    "print(var.shape) # 1,4( 1 is the dimensional and 4 is the no.of data present)\n",
    "print(var)\n",
    "print()\n",
    "var2=np.array([[1],[2],[3],[4]]) # 4,1 means 4 dimensional with one data\n",
    "print(var2.shape)\n",
    "print(var2)\n",
    "print()\n",
    "print(\"sum of var and var2 is\",var+var2)# for sum data input should be same"
   ]
  },
  {
   "cell_type": "code",
   "execution_count": null,
   "id": "08f18f50",
   "metadata": {},
   "outputs": [],
   "source": [
    "x=np.array([[1],[2]])\n",
    "print(x.shape)# 2 dimension array\n",
    "print()\n",
    "x2=np.array([[1,2,3],[1,2,3]])\n",
    "print(x2.shape) # 2*3 here 2 is dimensional array and 3 is the no.of data\n",
    "print(\"sum of x and x2 \", x+x2)\n",
    "print()\n",
    "\n",
    "\n",
    "print(\"note:- in case sum , last or unmached data ka  multiplication , data shape define krta hai \")\n",
    "print(\"jaise:- (2,1),(2,3),in this case last 3 and 1 will multiply and will give shape of new addition data set\")"
   ]
  },
  {
   "cell_type": "markdown",
   "id": "794e908e",
   "metadata": {},
   "source": [
    "# Indexing and Splicing"
   ]
  },
  {
   "cell_type": "code",
   "execution_count": null,
   "id": "2b844670",
   "metadata": {},
   "outputs": [],
   "source": [
    "import numpy as np\n",
    "var=np.array([1,2,3,4])\n",
    "print(var[1]) # for index value we can write index no. to get value.\n",
    "# index always start with 0,1,2,3. \n",
    "# for negative = -1.-2,-3 etc\n",
    "print(var[-1])"
   ]
  },
  {
   "cell_type": "code",
   "execution_count": null,
   "id": "e2b9059e",
   "metadata": {},
   "outputs": [],
   "source": [
    "var1=np.array([[9,8,7],[4,5,6]]) # this is 2d array for check var1.ndim\n",
    "print(var1)\n",
    "print()\n",
    "\n",
    "# first value is taken as row value(0,1,2,3,etc) and second values is taken from column\n",
    "print(var1[0,2]) \n",
    "\n",
    "# print(var1[2,1])# error because in row only till 1 index is possible\n",
    "\n",
    "print()\n",
    "print(var1[1,1]) # is at 5"
   ]
  },
  {
   "cell_type": "code",
   "execution_count": null,
   "id": "af14cef5",
   "metadata": {},
   "outputs": [],
   "source": [
    "# indexing for 3d array\n",
    "var3=np.array([[[1,2,3,4],[2,3,4,5]]])\n",
    "print(var3.ndim) # to know no. of dimension as 3d\n",
    "print(var3)\n",
    "print()\n",
    "print(var3[0,1,2]) \n",
    "# first no. 0(for the 1 dimension array where no element is found)\n",
    "# 2nd no. 1(for the given rows, 0,1 only for this given array)\n",
    "# 3rd no. 2(for the given columns, o,1,2,3 only for this given array)\n",
    "print(\"for index value 0,0,0\")\n",
    "print(var3[0,0,0])"
   ]
  },
  {
   "cell_type": "markdown",
   "id": "c51374c7",
   "metadata": {},
   "source": [
    "# Slicing\n",
    "### it is define- to find a desired data set\n",
    "#### it also define as to arranege the data set in desired index value\n",
    "## slicing can be done with the help of index value"
   ]
  },
  {
   "cell_type": "code",
   "execution_count": null,
   "id": "758bb359",
   "metadata": {},
   "outputs": [],
   "source": [
    "var5=np.array([9,8,7,6,5,4,3])\n",
    " # index value    0,1,2,3,4,5,6\n",
    "print(var5)\n",
    "print()\n",
    "\n",
    "print(\"from 8 to 4 :\", var5[1:6]) # index gives value n-1 ,as (5 is the index value so array will be till 4th value)\n",
    "print()\n",
    "print(\"from 8 to end:\",var5[1:]) #for end no index value is used only colon used (:)\n",
    "print()\n",
    "print(\"from start to 4\",var5[:6]) # 6 is the n+1 index value because index value gives result less than one (n-1)\n",
    "print()\n",
    "print(\"from 8 to 4 with 2 space/gap\",var5[1:6:2]) # first(1) and second value(6) is the index value from where to where and the last value(2) is defined about how much gap/space/jump should between no. \n",
    "print()\n",
    "print(\"from 9 to 3, with 3 gap/space\",var5[0:7:3])"
   ]
  },
  {
   "cell_type": "code",
   "execution_count": null,
   "id": "8be885d3",
   "metadata": {},
   "outputs": [],
   "source": [
    "# now for 2d array splicing"
   ]
  },
  {
   "cell_type": "code",
   "execution_count": null,
   "id": "c2f24c46",
   "metadata": {},
   "outputs": [],
   "source": [
    "var6=np.array([[1,2,3,4,5],[9,8,7,6,5],[11,12,13,14,15]])\n",
    "print(var6)\n",
    "print(var6.ndim) # to check it is 2d or not\n",
    "print()\n",
    "print(\"from 8 to 5\",var6[1,1:])# for infinite data print in the row use colon:\n"
   ]
  },
  {
   "cell_type": "code",
   "execution_count": null,
   "id": "3e4511e0",
   "metadata": {},
   "outputs": [],
   "source": [
    "# for 3 dimension\n",
    "var7=np.array([[[1,2,3,4]]])\n",
    "print(var7.ndim) # to check is it 3 dimensional or not\n",
    "print(\"from 2 to 4:\", var7[0,0,1:]) # 1st 0 for 3rd dimensional ( there is no any data in the last dimension so it is taken as 0)\n",
    "            # 2nd 0 is of row 1st and heere is only one row\n",
    "    "
   ]
  },
  {
   "cell_type": "code",
   "execution_count": null,
   "id": "cfb8d570",
   "metadata": {},
   "outputs": [],
   "source": [
    "# Till 11th lecture start from 12 lecture"
   ]
  },
  {
   "cell_type": "code",
   "execution_count": null,
   "id": "f7efce12",
   "metadata": {},
   "outputs": [],
   "source": []
  },
  {
   "cell_type": "markdown",
   "id": "45a4cb28",
   "metadata": {},
   "source": [
    "# Iteratrion in numpy array\n",
    "\n",
    "### - it means to separate/ breake the array\n"
   ]
  },
  {
   "cell_type": "code",
   "execution_count": null,
   "id": "79fdf307",
   "metadata": {},
   "outputs": [],
   "source": [
    "import numpy as np\n",
    "var9=np.array([9,8,7,6,5,4])\n",
    "print(var9)\n",
    "print()\n",
    "for i in var9:\n",
    "    print(i)"
   ]
  },
  {
   "cell_type": "markdown",
   "id": "ac15c21e",
   "metadata": {},
   "source": [
    " # Itteration for 2d array\n"
   ]
  },
  {
   "cell_type": "code",
   "execution_count": null,
   "id": "8287110f",
   "metadata": {},
   "outputs": [],
   "source": [
    "var11=np.array([[1,2,3,4],[1,2,3,4]])\n",
    "print(var11)\n",
    "for j in var11:\n",
    "    print(j)"
   ]
  },
  {
   "cell_type": "code",
   "execution_count": null,
   "id": "d6a3ef4b",
   "metadata": {},
   "outputs": [],
   "source": [
    "# for not a row , only for column value use double for loop\n",
    "var11=np.array([[1,2,3,4],[1,2,3,4]])\n",
    "print(var11)\n",
    "for j in var11:\n",
    "    print(j)\n",
    "    print()\n",
    "    for k in var11:\n",
    "        for l in k:\n",
    "            print(l)\n",
    "            \n",
    "            # for 2d we uses 2 times for loop ,hence for 3d use 3 times for loop"
   ]
  },
  {
   "cell_type": "code",
   "execution_count": null,
   "id": "5669ba7e",
   "metadata": {},
   "outputs": [],
   "source": [
    "# for 3d use 3 times for loop\n",
    "import numpy as np\n",
    "\n",
    "var12=np.array([[[1,2,3,4],[1,2,3,4]]])\n",
    "\n",
    "print(var12)\n",
    "print(var12.ndim)\n",
    "for j in var11:\n",
    "    print(j)\n",
    "    print()\n",
    "    for k in var12:\n",
    "        for l in k:\n",
    "            for m in l:\n",
    "                print(m)\n",
    "           \n",
    "            "
   ]
  },
  {
   "cell_type": "code",
   "execution_count": null,
   "id": "4fab937d",
   "metadata": {},
   "outputs": [],
   "source": [
    "# Another method for Iletering the arrays by using np.nditer"
   ]
  },
  {
   "cell_type": "code",
   "execution_count": null,
   "id": "1560d1bd",
   "metadata": {},
   "outputs": [],
   "source": [
    "import numpy as np\n",
    "\n",
    "var12=np.array([[[1,2,3,4],[1,2,3,4]]])\n",
    "\n",
    "print(var12)\n",
    "print(var12.ndim)\n",
    "print()\n",
    "\n",
    "for i in np.nditer(var12):\n",
    "    print(i)"
   ]
  },
  {
   "cell_type": "code",
   "execution_count": null,
   "id": "34d1b0f9",
   "metadata": {},
   "outputs": [],
   "source": [
    "# In Iletering to change the data types using np.nditer"
   ]
  },
  {
   "cell_type": "code",
   "execution_count": null,
   "id": "3814646d",
   "metadata": {},
   "outputs": [],
   "source": [
    "import numpy as np\n",
    "\n",
    "var120=np.array([[[1,2,3,4],[1,2,3,4]]])\n",
    "\n",
    "print(var120)\n",
    "print(var120.ndim)\n",
    "print()\n",
    "\n",
    "for i in np.nditer(var120,flags=['buffered'],op_dtypes=[\"s\"]):\n",
    "    print(i)"
   ]
  },
  {
   "cell_type": "code",
   "execution_count": null,
   "id": "c10e5ce7",
   "metadata": {},
   "outputs": [],
   "source": [
    "# for indexing of these type of data\n",
    "import numpy as np\n",
    "\n",
    "var121=np.array([[[1,2,3,4],[1,2,3,4]]])\n",
    "\n",
    "print(var121)\n",
    "for i,d in np.ndenumerate(var121):\n",
    "    print(i,d)\n",
    "    \n",
    "    # indexing value is as like due to 3dimensional array"
   ]
  },
  {
   "cell_type": "markdown",
   "id": "6769f0a5",
   "metadata": {},
   "source": [
    "# copy vs view\n",
    "##### Both of them have almost same work\n",
    "### copy gives original data But view gives duplicated value or changes value"
   ]
  },
  {
   "cell_type": "code",
   "execution_count": null,
   "id": "6b7a3419",
   "metadata": {},
   "outputs": [],
   "source": [
    "import numpy as np\n",
    "varc=np.array([1,2,3,4])\n",
    "co=varc.copy()\n",
    "varc[1]=11\n",
    "print(\"varc\",varc)\n",
    "print(\"copy\",co) # both gives same output\n",
    "# in copy function here is no any changes takes place original value is giving"
   ]
  },
  {
   "cell_type": "code",
   "execution_count": null,
   "id": "43b450c9",
   "metadata": {},
   "outputs": [],
   "source": [
    "import numpy as np\n",
    "varv=np.array([1,2,3,4])\n",
    "vi=varv.view()\n",
    "varv[1]=11\n",
    "print(\"varv\",varv)\n",
    "print(\"view\",vi) # here also have the same result of variable and view\n",
    "# But in view function value get changes as variable changesss"
   ]
  },
  {
   "cell_type": "markdown",
   "id": "e2d2681a",
   "metadata": {},
   "source": [
    "# join array  - add arrAY"
   ]
  },
  {
   "cell_type": "code",
   "execution_count": null,
   "id": "697c025e",
   "metadata": {},
   "outputs": [],
   "source": [
    "import numpy as np\n",
    "varj=np.array([1,2,3,4])\n",
    "vark=np.array([9,7,6,5])\n",
    "\n",
    "ar=np.concatenate((varj,vark)) # concatenate means to join two array\n",
    "print(ar)"
   ]
  },
  {
   "cell_type": "code",
   "execution_count": null,
   "id": "2d754782",
   "metadata": {},
   "outputs": [],
   "source": [
    "import numpy as np\n",
    "varjk=np.array([[1,2],[3,4]])\n",
    "varkj=np.array([[9,7],[6,5]])\n",
    "\n",
    "ar1=np.concatenate((varjk,varkj),axis=0)# axis 0 means along column, and axis=1 means along rows\n",
    "print(ar1)"
   ]
  },
  {
   "cell_type": "markdown",
   "id": "0ac9a5e2",
   "metadata": {},
   "source": [
    "# join BY - stack"
   ]
  },
  {
   "cell_type": "code",
   "execution_count": null,
   "id": "ab8bcb31",
   "metadata": {},
   "outputs": [],
   "source": [
    "import numpy as np\n",
    "va_1=np.array([1,2,3,4])\n",
    "va_2=np.array([9,7,6,5])\n",
    "\n",
    "a_1=np.stack((va_1,va_2),axis=1) # stack is also used to join\n",
    "print(a_1)"
   ]
  },
  {
   "cell_type": "code",
   "execution_count": null,
   "id": "c09f3deb",
   "metadata": {},
   "outputs": [],
   "source": [
    "import numpy as np\n",
    "va_10=np.array([1,2,3,4])\n",
    "va_20=np.array([9,7,6,5])\n",
    "\n",
    "a_10=np.hstack((va_10,va_20))  # use h before stack(hstack) to join  in horizontally/rows\n",
    "print(a_10)"
   ]
  },
  {
   "cell_type": "code",
   "execution_count": null,
   "id": "997154db",
   "metadata": {},
   "outputs": [],
   "source": [
    "import numpy as np\n",
    "va_01=np.array([1,2,3,4])\n",
    "va_02=np.array([9,7,6,5])\n",
    "\n",
    "a_01=np.vstack((va_01,va_02)) # use v before stack(np.vstack) for join along column/vertically\n",
    "print(a_01)\n",
    "# for along high use dstack"
   ]
  },
  {
   "cell_type": "markdown",
   "id": "96602c16",
   "metadata": {},
   "source": [
    "# split array"
   ]
  },
  {
   "cell_type": "code",
   "execution_count": null,
   "id": "3ff36d88",
   "metadata": {},
   "outputs": [],
   "source": [
    "# for 1d array\n",
    "j=np.array([1,2,3,4,4,5])\n",
    "print(j)\n",
    "newar=np.array_split(j,3)# split array in 3 array\n",
    "print(newar)\n",
    "print()\n",
    "print(newar[0])# for single "
   ]
  },
  {
   "cell_type": "code",
   "execution_count": null,
   "id": "b746757c",
   "metadata": {},
   "outputs": [],
   "source": [
    "# for 2 dimension array\n",
    "import numpy as np\n",
    "v1=np.array([[1,2],[3,4],[3,9]])# in 2d square bracket should be 2 at last and data set may be more than two\n",
    "v2=np.array([[9,7],[6,5],[2,8]])\n",
    "\n",
    "a_01=np.array_split(v1,3) # for v2 print in other table\n",
    "print(a_01)\n",
    "print()\n",
    "a_011=np.array_split(v1,3,axis=1) # print in axis form\n",
    "print(a_011)"
   ]
  },
  {
   "cell_type": "code",
   "execution_count": null,
   "id": "946dad7b",
   "metadata": {},
   "outputs": [],
   "source": [
    " # till 14 lecture start with lecture 15"
   ]
  },
  {
   "cell_type": "markdown",
   "id": "c3961192",
   "metadata": {},
   "source": [
    "# Numpy array function\n",
    "### search"
   ]
  },
  {
   "cell_type": "code",
   "execution_count": null,
   "id": "64c01ff8",
   "metadata": {},
   "outputs": [],
   "source": [
    "search=np.array([1,2,3,4,4,5,6,8,8,3])\n",
    "\n",
    "x1=np.where(search==4) # np.where gives the index value\n",
    "print(x1)\n",
    "x2=np.where((search%2)==0) # Remainder  value which equaly divide by 2 is \n",
    "print(x2)"
   ]
  },
  {
   "cell_type": "code",
   "execution_count": null,
   "id": "09c1f0e8",
   "metadata": {},
   "outputs": [],
   "source": [
    "# searchsorted is used to find a place where number wiill adjust\n",
    "sorted=np.array([1,2,3,4,5,9])\n",
    "xsorted=np.searchsorted(sorted,5)# this will find a place on which index 5 will adjust\n",
    "print(xsorted)"
   ]
  },
  {
   "cell_type": "code",
   "execution_count": null,
   "id": "667a17a3",
   "metadata": {},
   "outputs": [],
   "source": [
    "sorted1=np.array([1,2,3,4,5,9])\n",
    "xsorted1=np.searchsorted(sorted1,[4,5,6],side=\"right\")# we can adjust many no. from right also, by default from left it is adjusting\n",
    "print(xsorted1)"
   ]
  },
  {
   "cell_type": "markdown",
   "id": "80acc5f7",
   "metadata": {},
   "source": [
    "# sort - to arrange in ascending order\n",
    "\n"
   ]
  },
  {
   "cell_type": "code",
   "execution_count": null,
   "id": "604b260a",
   "metadata": {},
   "outputs": [],
   "source": [
    "sorted2=np.array([1,2,33,4,5,9,0])\n",
    "\n",
    "print(np.sort(sorted2))# only print is here"
   ]
  },
  {
   "cell_type": "code",
   "execution_count": null,
   "id": "4e7659ce",
   "metadata": {},
   "outputs": [],
   "source": [
    "# same for 2d array. arranging each according rows and column \n",
    "sorted3=np.array([[1,2,33],[4,5,9]])\n",
    "\n",
    "print(np.sort(sorted3))"
   ]
  },
  {
   "cell_type": "code",
   "execution_count": null,
   "id": "3a8de0fa",
   "metadata": {},
   "outputs": [],
   "source": [
    "# string can also be sorted\n",
    "string=np.array([\"a\",\"b\",\"m\",\"c\",\"d\"])# arrange accordinglyly\n",
    "print(np.sort(string))"
   ]
  },
  {
   "cell_type": "markdown",
   "id": "d7c62683",
   "metadata": {},
   "source": [
    "## Filter array"
   ]
  },
  {
   "cell_type": "code",
   "execution_count": null,
   "id": "b50433dc",
   "metadata": {},
   "outputs": [],
   "source": [
    "filter=np.array([\"a\",\"s\",\"b\",\"d\",\"f\"])\n",
    "f=[True,False,False,True,True]\n",
    "new_a=filter[f]\n",
    "print(new_a) # only true value is givingg"
   ]
  },
  {
   "cell_type": "code",
   "execution_count": null,
   "id": "087fce0d",
   "metadata": {},
   "outputs": [],
   "source": [
    "# till 15"
   ]
  },
  {
   "cell_type": "markdown",
   "id": "25e815f3",
   "metadata": {},
   "source": [
    "# Numpy array arithmetic function\n",
    "### shuffle,Unique,Resize,Flatten Ravel"
   ]
  },
  {
   "cell_type": "code",
   "execution_count": null,
   "id": "21300167",
   "metadata": {},
   "outputs": [],
   "source": [
    "# shufle- mix as like cards(tashf)"
   ]
  },
  {
   "cell_type": "code",
   "execution_count": null,
   "id": "cbddc6e2",
   "metadata": {},
   "outputs": [],
   "source": [
    "shuf=np.array([2,3,4,5,6,1,9])\n",
    "np.random.shuffle(shuf) # random value is give\n",
    "\n",
    "print(shuf)"
   ]
  },
  {
   "cell_type": "code",
   "execution_count": null,
   "id": "ac243173",
   "metadata": {},
   "outputs": [],
   "source": [
    "# Unique- it gives unique value means minimise the repeatative value\n",
    "un=np.array([9,3,4,5,6,7,5,6,6,6,4])\n",
    "un1=np.unique(un)\n",
    "un2=np.unique(un,return_index=True)# it gives index value of the array\n",
    "\n",
    "print(un1)\n",
    "print()\n",
    "print(un2)\n",
    "print()\n",
    "un3=np.unique(un,return_index=True,return_counts=True)# for find nummber   of repetation\n",
    "print(un3)"
   ]
  },
  {
   "cell_type": "code",
   "execution_count": null,
   "id": "0baf83ff",
   "metadata": {},
   "outputs": [],
   "source": [
    " # Resize - it helps to resize the array in matrix or 2dimensional array or 3d,4d\n",
    "    "
   ]
  },
  {
   "cell_type": "code",
   "execution_count": null,
   "id": "a8e3aa6f",
   "metadata": {},
   "outputs": [],
   "source": [
    "res=np.array([1,2,3,4,5,6,7,7,8,9,0])\n",
    "r=np.resize(res,(3,4))\n",
    "print(r)\n",
    "print(\"this is 2 dimensional aray\",r.ndim)"
   ]
  },
  {
   "cell_type": "code",
   "execution_count": null,
   "id": "6bc9db96",
   "metadata": {},
   "outputs": [],
   "source": [
    "# flatten- it helps to 2d in 1dimensional array\n",
    "\n",
    "\n",
    "# order=\"f\"(it takes value from column,)\n",
    "# order=\"c\"(it takes value in/from rows)"
   ]
  },
  {
   "cell_type": "code",
   "execution_count": null,
   "id": "769610ab",
   "metadata": {},
   "outputs": [],
   "source": [
    "z=np.resize(res,(4,3))\n",
    "print(z)\n",
    "print()\n",
    "\n",
    "print(\"flatten\",z.flatten(order=\"F\"))# arrange in 1d accordingly column vlaue\n",
    "print(\"flatten\",z.flatten(order=\"C\"))# arrange in 1d accordingly rows values\n",
    "\n",
    "    "
   ]
  },
  {
   "cell_type": "code",
   "execution_count": null,
   "id": "474c5404",
   "metadata": {},
   "outputs": [],
   "source": [
    "# revel - helps to convert 2d in 1dimensional array\n"
   ]
  },
  {
   "cell_type": "code",
   "execution_count": null,
   "id": "cd99388e",
   "metadata": {},
   "outputs": [],
   "source": [
    "print(z)\n",
    "print()\n",
    "print(\"Ravel\",np.ravel(z))# defalut it gives first rows value then 2nd rows value and so onn\n",
    "print(\"Ravel, orderr,f\",np.ravel(z,order=\"F\"))\n",
    "print(\"Ravel, orderr,c\",np.ravel(z,order=\"c\"))"
   ]
  },
  {
   "cell_type": "code",
   "execution_count": null,
   "id": "aa1a58ce",
   "metadata": {},
   "outputs": [],
   "source": [
    "# tilll 16"
   ]
  },
  {
   "cell_type": "markdown",
   "id": "788e1967",
   "metadata": {},
   "source": [
    "# Insert & Delete"
   ]
  },
  {
   "cell_type": "code",
   "execution_count": null,
   "id": "8b2a3c15",
   "metadata": {},
   "outputs": [],
   "source": [
    "ins=np.array([1,2,3,4,5,7])\n",
    "print(ins)\n",
    "ins1=np.insert(ins,2,30)# 2 is the index valu\n",
    "print(ins1)\n",
    "# that means we can insert any value with the help of iNdex value"
   ]
  },
  {
   "cell_type": "code",
   "execution_count": null,
   "id": "ce8c82f0",
   "metadata": {},
   "outputs": [],
   "source": [
    "ins2=np.insert(ins,(2,4), 404)# (2,4) it is the ndex value\n",
    "print(ins2)\n"
   ]
  },
  {
   "cell_type": "code",
   "execution_count": null,
   "id": "90cce4db",
   "metadata": {},
   "outputs": [],
   "source": [
    "ins3=np.insert(ins,(2,3),4.5)# it insert only integer not flloat value\n",
    "print(ins3)"
   ]
  },
  {
   "cell_type": "code",
   "execution_count": null,
   "id": "0af8e51b",
   "metadata": {},
   "outputs": [],
   "source": [
    "ins4=np.resize(ins,(2,3))\n",
    "print(ins4)\n",
    "v0=np.insert(ins4,1,0,axis=0)# 0 means along rows in 1 index of rows\n",
    "print(v0)"
   ]
  },
  {
   "cell_type": "code",
   "execution_count": null,
   "id": "4bca02d6",
   "metadata": {},
   "outputs": [],
   "source": [
    "# append can insert float value\n",
    "# while insert can insert only integer value"
   ]
  },
  {
   "cell_type": "code",
   "execution_count": null,
   "id": "008e789a",
   "metadata": {},
   "outputs": [],
   "source": [
    "#  np.append is not working here"
   ]
  },
  {
   "cell_type": "code",
   "execution_count": null,
   "id": "47871883",
   "metadata": {},
   "outputs": [],
   "source": [
    "# delete"
   ]
  },
  {
   "cell_type": "code",
   "execution_count": null,
   "id": "5aa6a74e",
   "metadata": {},
   "outputs": [],
   "source": [
    "j=np.array([3,4,4,5])\n",
    "inst0=np.delete(j,3)\n",
    "print(j)\n",
    "print(inst0)"
   ]
  },
  {
   "cell_type": "markdown",
   "id": "31cf77bc",
   "metadata": {},
   "source": [
    "# Matrix"
   ]
  },
  {
   "cell_type": "code",
   "execution_count": null,
   "id": "9d93fb69",
   "metadata": {},
   "outputs": [],
   "source": [
    "# matrix and numpy array is approx same in size nd design\n"
   ]
  },
  {
   "cell_type": "code",
   "execution_count": null,
   "id": "adf376c8",
   "metadata": {},
   "outputs": [],
   "source": [
    "ma=np.matrix([[2,3,44,1],[2,2,3,4]])\n",
    "print(ma)\n",
    "type(ma)"
   ]
  },
  {
   "cell_type": "code",
   "execution_count": null,
   "id": "a6828f8c",
   "metadata": {},
   "outputs": [],
   "source": [
    "arr=np.array([[2,3,44,1],[2,2,3,4]])\n",
    "print(arr)\n",
    "type(arr) #design of both matrix and array is smilimar"
   ]
  },
  {
   "cell_type": "markdown",
   "id": "929f82de",
   "metadata": {},
   "source": [
    "### addition and substraction in Numpy array and matrix is same\n",
    "### multiplication is different\n",
    " ### array= 1st row multiply by 1st row of another data\n",
    " # -----------------------------------------------\n",
    " ## Matrix multiplication is also know n as dot multiplication\n",
    " ### matrix= 1st row multiply by 1st column + 1st row multiply by 2nd column  of another data and makes 1st matrix data"
   ]
  },
  {
   "cell_type": "code",
   "execution_count": null,
   "id": "740d7844",
   "metadata": {},
   "outputs": [],
   "source": [
    "# addition and substraction is same in both\n",
    "ar1=np.array([[2,3,44,1],[2,2,3,4]])\n",
    "ar2=np.array([[2,3,44,1],[2,2,3,4]])\n",
    "print(ar1+ar2)\n",
    "type(ar1)\n"
   ]
  },
  {
   "cell_type": "code",
   "execution_count": null,
   "id": "2c1b5a90",
   "metadata": {},
   "outputs": [],
   "source": [
    "mat=np.matrix([[2,3,44,1],[2,2,3,4]])\n",
    "mat1=np.matrix([[2,3,44,1],[2,2,3,4]])\n",
    "print(mat+mat1)"
   ]
  },
  {
   "cell_type": "code",
   "execution_count": null,
   "id": "d320e517",
   "metadata": {},
   "outputs": [],
   "source": [
    "mat2=np.matrix([[2,3],[2,2]])\n",
    "mat3=np.matrix([[2,3],[2,2]])\n",
    "print(mat2*mat3)\n",
    "print(\"we can multiply by using dot() function :\")\n",
    "print(mat2.dot(mat3))"
   ]
  },
  {
   "cell_type": "code",
   "execution_count": null,
   "id": "dd0f7a32",
   "metadata": {},
   "outputs": [],
   "source": [
    "mat21=np.array([[2,3],[2,2]])\n",
    "mat31=np.array([[2,3],[2,2]])\n",
    "print(mat21*mat31)"
   ]
  },
  {
   "cell_type": "markdown",
   "id": "64016597",
   "metadata": {},
   "source": [
    "## Matrix function in Numpy arrays\n",
    "#### 1.Transpose,  2. swapaxes, 3.Inverse, 4.Power, 5.Determinate"
   ]
  },
  {
   "cell_type": "markdown",
   "id": "5d3de247",
   "metadata": {},
   "source": [
    "### 1.Transpose - Rows convert into column"
   ]
  },
  {
   "cell_type": "code",
   "execution_count": 10,
   "id": "2d108d82",
   "metadata": {},
   "outputs": [
    {
     "name": "stdout",
     "output_type": "stream",
     "text": [
      "[[2 3]\n",
      " [4 0]]\n",
      "\n",
      "[[2 4]\n",
      " [3 0]]\n",
      "shortcut to transpose is  capital :- T\n",
      "[[2 4]\n",
      " [3 0]]\n",
      "----------------------------------------------\n",
      "[[2 4]\n",
      " [3 0]]\n"
     ]
    }
   ],
   "source": [
    "mat2=np.matrix([[2,3],[4,0]])\n",
    "print(mat2)\n",
    "print()\n",
    "print(np.transpose(mat2)) # transpose helps to convert rows into rows\n",
    "print(\"shortcut to transpose is  capital :- T\")\n",
    "print(mat2.T)\n",
    "print(\"----------------------------------------------\")\n",
    "\n",
    "print(np.swapaxes(mat2,0,1))# 0(rows) convert into 1(column)"
   ]
  },
  {
   "cell_type": "markdown",
   "id": "b78aec47",
   "metadata": {},
   "source": [
    "# square matrix"
   ]
  },
  {
   "cell_type": "code",
   "execution_count": 16,
   "id": "2e504478",
   "metadata": {},
   "outputs": [
    {
     "name": "stdout",
     "output_type": "stream",
     "text": [
      "[[1 2]\n",
      " [3 4]]\n",
      "\n",
      "[[1 3]\n",
      " [2 4]]\n",
      "[[1 3]\n",
      " [2 4]]\n"
     ]
    }
   ],
   "source": [
    "sq=np.matrix([[1,2],[3,4]])\n",
    "print(sq)\n",
    "print()\n",
    "print(np.swapaxes(sq,0,1))# why both output is same??????????\n",
    "print(np.swapaxes(sq,1,0))# column converted into Rows"
   ]
  },
  {
   "cell_type": "markdown",
   "id": "59acc467",
   "metadata": {},
   "source": [
    "# INVESE Matrix"
   ]
  },
  {
   "cell_type": "code",
   "execution_count": 17,
   "id": "f27b445d",
   "metadata": {},
   "outputs": [
    {
     "name": "stdout",
     "output_type": "stream",
     "text": [
      "[[1 2]\n",
      " [3 4]]\n",
      "\n",
      "[[-2.   1. ]\n",
      " [ 1.5 -0.5]]\n"
     ]
    }
   ],
   "source": [
    "sq1=np.matrix([[1,2],[3,4]])\n",
    "print(sq1)\n",
    "print()\n",
    "print(np.linalg.inv(sq1)) # for inverse matrix"
   ]
  },
  {
   "cell_type": "code",
   "execution_count": 20,
   "id": "7647f248",
   "metadata": {},
   "outputs": [],
   "source": [
    "# power matrix\n",
    "# has three case:- n=0,n>0,n<0\n",
    "# n=0(In this we will get Identical matrix means diagonal will fill with same no. as 1)\n",
    "# n>0(power multiply with matirix)\n",
    "# n<0(Inverese multiply with power of matrix)"
   ]
  },
  {
   "cell_type": "code",
   "execution_count": 22,
   "id": "78493663",
   "metadata": {},
   "outputs": [
    {
     "name": "stdout",
     "output_type": "stream",
     "text": [
      "[[1 2]\n",
      " [3 4]]\n",
      "\n",
      "[[ 7 10]\n",
      " [15 22]]\n",
      "\n",
      "[[ 5.5  -2.5 ]\n",
      " [-3.75  1.75]]\n",
      "\n",
      "[[1 0]\n",
      " [0 1]]\n"
     ]
    }
   ],
   "source": [
    "print(sq1)\n",
    "print()\n",
    "print(np.linalg.matrix_power(sq1,2))# 2(n) is greater than zero(0) so this will multiply with power and the given matrix\n",
    "print()\n",
    "print(np.linalg.matrix_power(sq1,-2))# -2(n) is less than 0 it will multiply with inerse of the matrix\n",
    "print()\n",
    "print(np.linalg.matrix_power(sq1,0)) # 0(n) is equal to zero(0)   so it wll form a identical matrix\n"
   ]
  },
  {
   "cell_type": "markdown",
   "id": "abcf678f",
   "metadata": {},
   "source": [
    "## Determinant\n",
    "### function of Determinnat is   np.linalg.det(var)\n",
    "### for determinat +,-,+,- aise eski sum chalti hai \n",
    "####  Note- For square matrix two dimensional value of matrix should be shame"
   ]
  },
  {
   "cell_type": "code",
   "execution_count": 26,
   "id": "4226839d",
   "metadata": {},
   "outputs": [
    {
     "name": "stdout",
     "output_type": "stream",
     "text": [
      "[[1 2]\n",
      " [3 4]]\n",
      "\n",
      "-2.0000000000000004\n",
      "0.0\n"
     ]
    }
   ],
   "source": [
    "print(sq1)\n",
    "print()\n",
    "print(np.linalg.det(sq1)) # this will find the  determinant of matrix\n",
    "\n",
    "sq2=np.matrix([[1,2,3],[2,32,44],[1,2,3]])\n",
    "print(np.linalg.det(sq2)) # determinant of square matrix is zero"
   ]
  },
  {
   "cell_type": "code",
   "execution_count": null,
   "id": "e139e332",
   "metadata": {},
   "outputs": [],
   "source": []
  }
 ],
 "metadata": {
  "kernelspec": {
   "display_name": "Python 3 (ipykernel)",
   "language": "python",
   "name": "python3"
  },
  "language_info": {
   "codemirror_mode": {
    "name": "ipython",
    "version": 3
   },
   "file_extension": ".py",
   "mimetype": "text/x-python",
   "name": "python",
   "nbconvert_exporter": "python",
   "pygments_lexer": "ipython3",
   "version": "3.9.13"
  }
 },
 "nbformat": 4,
 "nbformat_minor": 5
}
